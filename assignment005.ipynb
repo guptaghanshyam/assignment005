{
 "cells": [
  {
   "attachments": {},
   "cell_type": "markdown",
   "metadata": {},
   "source": [
    "Q1.who developed python programing language? \n",
    "\n",
    "Ans:Python programming language was developed by Guido van Rossum, a Dutch programmer."
   ]
  },
  {
   "attachments": {},
   "cell_type": "markdown",
   "metadata": {},
   "source": [
    "Q2.which type of programming does python support ?\n",
    "\n",
    "Ans:Python supports multiple programming paradigms, including:\n",
    "\n",
    "Object-Oriented Programming (OOP)\n",
    "Imperative Programming,\n",
    "Functional Programming,\n",
    "Procedural Programming,"
   ]
  },
  {
   "attachments": {},
   "cell_type": "markdown",
   "metadata": {},
   "source": [
    "Q3.is python case sensitive when dealing with identifiers ?\n",
    "\n",
    "Ans:Yes, Python is a case-sensitive language when dealing with identifiers. This means that identifiers with different capitalization are considered to be different and separate from each other. For example, \"my_variable\" and \"My_Variable\" are two different identifiers in Python and refer to different variables"
   ]
  },
  {
   "attachments": {},
   "cell_type": "markdown",
   "metadata": {},
   "source": [
    "Q4.what is the correct extension of the python file ?\n",
    " \n",
    "Ans:The correct extension for a Python file is \".py\". "
   ]
  },
  {
   "attachments": {},
   "cell_type": "markdown",
   "metadata": {},
   "source": [
    "Q5.is python code compiled or interpreted ?\n",
    "\n",
    "Ans:Python code is interpreted, which means that the Python interpreter reads and executes the code line by line, as opposed to compiling the entire program into machine code before execution."
   ]
  },
  {
   "attachments": {},
   "cell_type": "markdown",
   "metadata": {},
   "source": [
    "Q6.name a few blocks of code used to define in python language?\n",
    "\n",
    "Ans:In Python, blocks of code are defined using indentation, rather than using braces or other delimiters like some other programming languages. Here are some examples of code blocks in Python:\n",
    "1.Function defination block\n",
    "2.Conditional statement block\n",
    "3.Looping statement block\n",
    "4.Class Definition block"
   ]
  },
  {
   "attachments": {},
   "cell_type": "markdown",
   "metadata": {},
   "source": [
    "Q7.states a character used to give single-line comments in python ?\n",
    "\n",
    "Ans:In Python, the \"#\" symbol is used to indicate a single-line comment. "
   ]
  },
  {
   "attachments": {},
   "cell_type": "markdown",
   "metadata": {},
   "source": [
    "Q8.mention function which help us to find the the version of python that we are currently working on ?\n",
    "\n",
    "Ans:To find the version of Python that you are currently working on, you can use the sys module in Python."
   ]
  },
  {
   "attachments": {},
   "cell_type": "markdown",
   "metadata": {},
   "source": [
    "Q9.python support the creation of anonymous function at run time ,using a constructor called _____________\n",
    "\n",
    "Ans:Python supports the creation of anonymous functions at runtime using a constructor called \"lambda\".\n",
    "\n"
   ]
  },
  {
   "attachments": {},
   "cell_type": "markdown",
   "metadata": {},
   "source": [
    "Q10.what does pipe stand for python ?\n",
    "\n",
    "Ans:In Python, the \"pipe\" symbol (\"|\") is not a built-in operator or function, and it does not have a specific meaning like it does in other programming languages or tools."
   ]
  },
  {
   "attachments": {},
   "cell_type": "markdown",
   "metadata": {},
   "source": [
    "Q11.mention a few built-in functions in python?\n",
    "\n",
    "Ans:Python comes with a large number of built-in functions that are available for use without needing to import any external modules or libraries. Here are some examples of commonly used built-in functions in Python:\n",
    "\n",
    "print() - outputs a value to the console\n",
    "\n",
    "input() - prompts the user to enter a value from the console\n",
    "\n",
    "len() - returns the length of a string, list, tuple, or other sequence\n",
    "\n",
    "range() - generates a sequence of numbers\n",
    "\n",
    "type() - returns the type of an object\n",
    "\n",
    "int() - converts a string or float to an integer\n",
    "\n",
    "float() - converts a string or integer to a float\n",
    "\n",
    "str() - converts an object to a string\n",
    "\n",
    "list() - converts a sequence to a list\n",
    "\n",
    "tuple() - converts a sequence to a tuple\n",
    "\n",
    "\n",
    "dict() - creates a dictionary\n",
    "\n",
    "abs() - returns the absolute value of a number\n",
    "\n",
    "max() - returns the largest value in a sequence\n",
    "\n",
    "min() - returns the smallest value in a sequence\n",
    "\n",
    "sum() - returns the sum of a sequence of numbers\n",
    "\n",
    "sorted() - sorts a sequence in ascending order\n",
    "\n",
    "reversed() - reverses the order of a sequence\n",
    "\n",
    "any() - returns True if any element in a sequence is True\n",
    "\n",
    "all() - returns True if all elements in a sequence are True"
   ]
  },
  {
   "attachments": {},
   "cell_type": "markdown",
   "metadata": {},
   "source": [
    "Q12.what is the maximum possible length of an identifier in python ?\n",
    "\n",
    "Ans:In Python, the maximum length of an identifier (variable, function, class name, etc.) is not specifically defined or limited by the language specification. However, for practical purposes and readability, it's generally recommended to keep identifier names reasonably short and descriptive.\n",
    "\n",
    "The Python style guide, known as PEP 8, recommends limiting identifier names to 79 characters or less. This is based on the standard width of text editors and the readability of code on a typical screen."
   ]
  },
  {
   "attachments": {},
   "cell_type": "markdown",
   "metadata": {},
   "source": [
    "Q13.what are the benefits of using python?\n",
    "\n",
    "Ans:Python is a popular programming language that offers a number of benefits for developers and users, including:\n",
    "\n",
    "Readability and ease of use: Python's syntax is designed to be simple, easy to read, and straightforward, which makes it easier to write and understand code.\n",
    "\n",
    "Large standard library: Python comes with a large and comprehensive standard library that provides a wide range of tools and functions for common programming tasks, such as working with files, network programming, data processing, and more.\n",
    "\n",
    "Cross-platform compatibility: Python code can run on multiple operating systems, including Windows, macOS, and Linux, making it highly versatile and accessible.\n",
    "\n",
    "Interpreted language: Python is an interpreted language, which means that code can be executed on the fly without the need for compilation. This makes development faster and more efficient.\n",
    "\n",
    "Strong community support: Python has a large and active community of developers and users who contribute to its ongoing development, provide support and resources, and create and maintain third-party libraries and frameworks.\n",
    "\n",
    "Data analysis and scientific computing: Python has become a popular language for data analysis, machine learning, and scientific computing, thanks to libraries such as NumPy, Pandas, and SciPy.\n",
    "\n",
    "Web development: Python has a number of web development frameworks, such as Django and Flask, that make it easy to build web applications.\n"
   ]
  },
  {
   "attachments": {},
   "cell_type": "markdown",
   "metadata": {},
   "source": [
    "Q14.how is memory managed in python?\n",
    "\n",
    "Ans:In Python, memory management is handled automatically by the Python interpreter, using a technique known as garbage collection. This means that the programmer does not need to worry about memory allocation or deallocation, and can focus on writing code without worrying about low-level memory management.\n",
    "\n",
    "Python uses a combination of reference counting and a garbage collector to manage memory. Reference counting is a technique where the interpreter keeps track of the number of references to each object, and when an object's reference count drops to zero, it is immediately deallocated. This means that objects are deallocated as soon as they are no longer needed, which helps to prevent memory leaks and improve performance."
   ]
  },
  {
   "attachments": {},
   "cell_type": "markdown",
   "metadata": {},
   "source": [
    "Q15.how to install python on windows and set path variables?\n",
    "\n",
    "Ans:Here are the steps to install Python on Windows and set path variables:\n",
    "\n",
    "Download Python: Go to the official Python website (https://www.python.org/downloads/windows/) and download the latest version of Python for Windows.\n",
    "\n",
    "Run the installer: Double-click on the downloaded installer file to run the Python installer.\n",
    "\n",
    "Choose installation options: Select the \"Add Python to PATH\" option during installation. This will add the Python executable to your system's PATH environment variable, which allows you to run Python from any directory in the command prompt.\n",
    "\n",
    "Finish installation: Follow the on-screen instructions to complete the installation process.\n",
    "\n",
    "Verify installation: Open a command prompt and type \"python --version\" to verify that Python is installed and check the version number.\n",
    "\n",
    "Set path variables: If you need to set additional path variables for Python, such as for third-party libraries or modules, you can do so by adding them to the system's PATH environment variable. Here are the steps:\n",
    "\n",
    "Press the Windows key + Pause/Break to open the System Properties window.\n",
    "\n",
    "Click on \"Advanced system settings\" in the left-hand menu.\n",
    "\n",
    "Click on the \"Environment Variables\" button at the bottom of the window.\n",
    "\n",
    "In the \"System Variables\" section, scroll down to find the \"Path\" variable and click \"Edit\".\n",
    "\n",
    "Click \"New\" and add the path to the directory containing the Python executable and any additional paths you need to set.\n",
    "\n",
    "Click \"OK\" to save the changes and close the windows.\n",
    "\n",
    "That's it! You should now have Python installed and configured on your Windows system, and be able to run Python scripts from any directory in the command prompt"
   ]
  },
  {
   "attachments": {},
   "cell_type": "markdown",
   "metadata": {},
   "source": [
    "Q16.s indentation required in python? \n",
    "\n",
    "Ans:Yes, indentation is required in Python. In Python, whitespace (spaces and tabs) at the beginning of a line is used to indicate the level of indentation, and is used to group statements into blocks of code.\n",
    "\n",
    "For example, here's a simple Python function that calculates the factorial of a number:"
   ]
  },
  {
   "cell_type": "code",
   "execution_count": 1,
   "metadata": {},
   "outputs": [],
   "source": [
    "def factorial(n):\n",
    "    if n == 0:\n",
    "        return 1\n",
    "    else:\n",
    "        return n * factorial(n-1)\n"
   ]
  },
  {
   "cell_type": "code",
   "execution_count": 2,
   "metadata": {},
   "outputs": [
    {
     "data": {
      "text/plain": [
       "120"
      ]
     },
     "execution_count": 2,
     "metadata": {},
     "output_type": "execute_result"
    }
   ],
   "source": [
    "factorial(5)"
   ]
  },
  {
   "attachments": {},
   "cell_type": "markdown",
   "metadata": {},
   "source": []
  }
 ],
 "metadata": {
  "kernelspec": {
   "display_name": "base",
   "language": "python",
   "name": "python3"
  },
  "language_info": {
   "codemirror_mode": {
    "name": "ipython",
    "version": 3
   },
   "file_extension": ".py",
   "mimetype": "text/x-python",
   "name": "python",
   "nbconvert_exporter": "python",
   "pygments_lexer": "ipython3",
   "version": "3.10.9"
  },
  "orig_nbformat": 4
 },
 "nbformat": 4,
 "nbformat_minor": 2
}
